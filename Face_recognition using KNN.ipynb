{
 "cells": [
  {
   "cell_type": "code",
   "execution_count": 14,
   "metadata": {},
   "outputs": [],
   "source": [
    "import cv2\n",
    "import numpy as np\n",
    "import os"
   ]
  },
  {
   "cell_type": "markdown",
   "metadata": {},
   "source": [
    "# KNN algo code"
   ]
  },
  {
   "cell_type": "code",
   "execution_count": 15,
   "metadata": {},
   "outputs": [],
   "source": [
    "def distance(v1, v2):\n",
    "    # Eucledian \n",
    "    return np.sqrt(((v1-v2)**2).sum())\n",
    "def knn(train, test, k=5):\n",
    "    dist = []\n",
    "    \n",
    "    for i in range(train.shape[0]):\n",
    "        # Get the vector and label\n",
    "        ix = train[i, :-1]\n",
    "        iy = train[i, -1]\n",
    "        # Compute the distance from test point\n",
    "        d = distance(test, ix)\n",
    "        dist.append([d, iy])\n",
    "    # Sort based on distance and get top k\n",
    "    dk = sorted(dist, key=lambda x: x[0])[:k]\n",
    "    # Retrieve only the labels\n",
    "    labels = np.array(dk)[:, -1]\n",
    "    \n",
    "    # Get frequencies of each label\n",
    "    output = np.unique(labels, return_counts=True)\n",
    "    # Find max frequency and corresponding label\n",
    "    index = np.argmax(output[1])\n",
    "    return output[0][index]"
   ]
  },
  {
   "cell_type": "code",
   "execution_count": 16,
   "metadata": {},
   "outputs": [],
   "source": [
    "cam=cv2.VideoCapture(0)  #to intialize camera"
   ]
  },
  {
   "cell_type": "code",
   "execution_count": 17,
   "metadata": {},
   "outputs": [],
   "source": [
    "face_cascade=cv2.CascadeClassifier(\"/Users/nambi/OneDrive/Desktop/AIandMLcourse/Face recognition/haarcascade_frontalface_alt.xml\")"
   ]
  },
  {
   "cell_type": "code",
   "execution_count": null,
   "metadata": {},
   "outputs": [],
   "source": [
    "skip=0\n",
    "face_data=[]\n",
    "labels=[]\n",
    "class_id=0   #labels to given file\n",
    "names={}    #to map ids and names\n",
    "          \n",
    "dataset_path=\"/Users/nambi/OneDrive/Desktop/AIandMLcourse/Face recognition\"\n",
    "\n",
    "\n",
    "# Data Preparation\n",
    "for fx in os.listdir(dataset_path):\n",
    "    if fx.endswith('.npy'):\n",
    "        #Create a mapping btw class_id and name\n",
    "        names[class_id] = fx[:-4]      #to get names meams removing \".npy\" from file name\n",
    "        print(\"Loaded \"+fx)\n",
    "        data_item = np.load(dataset_path+fx)\n",
    "        face_data.append(data_item)\n",
    "\n",
    "        #Create Labels for the class\n",
    "        target = class_id*np.ones((data_item.shape[0],))\n",
    "        class_id += 1\n",
    "        labels.append(target)\n",
    "\n",
    "face_dataset = np.concatenate(face_data,axis=0)\n",
    "face_labels = np.concatenate(labels,axis=0).reshape((-1,1))\n",
    "\n",
    "print(face_dataset.shape)\n",
    "print(face_labels.shape)\n",
    "\n",
    "trainset = np.concatenate((face_dataset,face_labels),axis=1)\n",
    "print(trainset.shape)\n",
    "\n",
    "\n",
    "while True:\n",
    "    ret,frame=cam.read() #ret :: bollean value to check whether frame caputured properly or not\n",
    "                         #frame :: frame value\n",
    "    if ret==False:\n",
    "        continue\n",
    "    \n",
    "    Gray_Frame=cv2.cvtColor(frame,cv2.COLOR_BGR2GRAY)\n",
    "    \n",
    "    faces=face_cascade.detectMultiScale(Gray_Frame,1.3,5)\n",
    "    if len(faces)==0:\n",
    "        continue\n",
    "    faces=sorted(faces,key=lambda f:f[2]*f[3])\n",
    "    \n",
    "    for face in faces[-1:]:\n",
    "        x,y,w,h=face\n",
    "        \n",
    "        #now to extract only face area and to store it \n",
    "        offset=10\n",
    "        face_area=Gray_Frame[y-offset:y+offset,x-offset:x+w+offset]\n",
    "        face_area=cv2.resize(face_area,(100,100))\n",
    "        \n",
    "#         predicted label\n",
    "        out = knn(trainset,face_area.flatten())\n",
    "        #Display on the screen the name and rectangle around it\n",
    "        pred_name = names[int(out)]\n",
    "        cv2.putText(Gray_Frame,pred_name,(x,y-10),cv2.FONT_HERSHEY_SIMPLEX,1,(255,0,0),2,cv2.LINE_AA)\n",
    "        cv2.rectangle(Gray_Frame,(x,y),(x+w,y+h),(0,255,255),2)\n",
    "    \n",
    "    cv2.imshow(\"Faces\",frame)\n",
    "    \n",
    "    key_pressed=cv2.waitKey(1)& 0xFF   #to exit while loop i intiated waitkey\n",
    "    if key_pressed==ord('q'):         #ord function gives ascii value of any key\n",
    "        break\n",
    "        \n",
    "\n",
    "cam.release()\n",
    "cv2.destroyAllWindows()\n",
    "\n"
   ]
  },
  {
   "cell_type": "code",
   "execution_count": null,
   "metadata": {},
   "outputs": [],
   "source": []
  }
 ],
 "metadata": {
  "kernelspec": {
   "display_name": "Python 3",
   "language": "python",
   "name": "python3"
  },
  "language_info": {
   "codemirror_mode": {
    "name": "ipython",
    "version": 3
   },
   "file_extension": ".py",
   "mimetype": "text/x-python",
   "name": "python",
   "nbconvert_exporter": "python",
   "pygments_lexer": "ipython3",
   "version": "3.8.5"
  }
 },
 "nbformat": 4,
 "nbformat_minor": 4
}
