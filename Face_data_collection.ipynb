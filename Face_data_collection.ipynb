{
 "cells": [
  {
   "cell_type": "code",
   "execution_count": 7,
   "metadata": {},
   "outputs": [],
   "source": [
    "import cv2         \n",
    "import numpy as np"
   ]
  },
  {
   "cell_type": "markdown",
   "metadata": {},
   "source": [
    "# Step-1\n",
    "# To Intialize Web cam\n"
   ]
  },
  {
   "cell_type": "code",
   "execution_count": 8,
   "metadata": {},
   "outputs": [],
   "source": [
    "cam=cv2.VideoCapture(0)   #to intiate camera\n",
    "\n"
   ]
  },
  {
   "cell_type": "code",
   "execution_count": 9,
   "metadata": {},
   "outputs": [],
   "source": [
    "face_cascade=cv2.CascadeClassifier(\"/Users/nambi/OneDrive/Desktop/AIandMLcourse/Face recognition/haarcascade_frontalface_alt.xml\")"
   ]
  },
  {
   "cell_type": "code",
   "execution_count": null,
   "metadata": {},
   "outputs": [],
   "source": [
    "skip=0\n",
    "face_data=[]\n",
    "\n",
    "dataset_path=\"/Users/nambi/OneDrive/Desktop/AIandMLcourse/Face recognition\"\n",
    "file_name=input(\"Enter the name of the person:\")\n",
    "\n",
    "while True:\n",
    "    ret,frame=cam.read() #ret :: bollean value to check whether frame caputured properly or not\n",
    "                         #frame :: frame value\n",
    "    if ret==False:\n",
    "        continue\n",
    "    \n",
    "    Gray_Frame=cv2.cvtColor(frame,cv2.COLOR_BGR2GRAY)\n",
    "    \n",
    "    faces=face_cascade.detectMultiScale(Gray_Frame,1.3,5)\n",
    "    if len(faces)==0:\n",
    "        continue\n",
    "    faces=sorted(faces,key=lambda f:f[2]*f[3])\n",
    "    \n",
    "    for face in faces[-1:]:\n",
    "        x,y,w,h=face\n",
    "        cv2.rectangle(Gray_Frame,(x,y),(x+w,y+h),(0,255,255),2) #to make rectangle box around face\n",
    "        \n",
    "        #now to extract only face area and to store it \n",
    "        offset=10\n",
    "        face_area=Gray_Frame[y-offset:y+offset,x-offset:x+w+offset]\n",
    "        face_area=cv2.resize(face_area,(100,100))\n",
    "        \n",
    "        skip += 1\n",
    "        if skip%10==0:\n",
    "            face_data.append(face_area)\n",
    "            print(len(face_data))\n",
    "        \n",
    "    cv2.imshow(\"Gray_Frame\",Gray_Frame)\n",
    "#     cv2.imshow(\"Frame\",frame)\n",
    "    cv2.imshow(\"Face area\",face_area)\n",
    "    \n",
    "    key_pressed=cv2.waitKey(1)& 0xFF   #to exit while loop i intiated waitkey\n",
    "    if key_pressed==ord('q'):         #ord function gives ascii value of any key\n",
    "        break\n",
    "        \n",
    "# Convert our face list array into a numpy array      \n",
    "face_data=np.asarray(face_data)\n",
    "face_data=face_data.reshape((face_data.shape[0],-1))\n",
    "print(face_data.shape)\n",
    "\n",
    "# Save this data into file system\n",
    "np.save(dataset_path+file_name+'.npy',face_data)\n",
    "print(\"Data Successfully save at \"+dataset_path+file_name+'.npy')\n",
    "\n",
    "cam.release()\n",
    "cv2.destroyAllWindows()\n",
    "\n"
   ]
  },
  {
   "cell_type": "code",
   "execution_count": null,
   "metadata": {},
   "outputs": [],
   "source": []
  }
 ],
 "metadata": {
  "kernelspec": {
   "display_name": "Python 3",
   "language": "python",
   "name": "python3"
  },
  "language_info": {
   "codemirror_mode": {
    "name": "ipython",
    "version": 3
   },
   "file_extension": ".py",
   "mimetype": "text/x-python",
   "name": "python",
   "nbconvert_exporter": "python",
   "pygments_lexer": "ipython3",
   "version": "3.8.5"
  }
 },
 "nbformat": 4,
 "nbformat_minor": 4
}
